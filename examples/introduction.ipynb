{
 "cells": [
  {
   "cell_type": "markdown",
   "metadata": {},
   "source": [
    "# Introduction"
   ]
  },
  {
   "cell_type": "code",
   "execution_count": null,
   "metadata": {},
   "outputs": [],
   "source": [
    "# if you are running this on colab, run these two cells.\n",
    "from google.colab import output\n",
    "output.enable_custom_widget_manager()"
   ]
  },
  {
   "cell_type": "code",
   "execution_count": null,
   "metadata": {},
   "outputs": [],
   "source": [
    "%%capture\n",
    "! git clone https://github.com/sfc-aqua/jupyter-quisp-widget.git\n",
    "! npm i -g yarn\n",
    "! cd jupyter-quisp-widget && yarn\n",
    "! pip install pluggy==1.0.0\n",
    "! cd jupyter-quisp-widget && pip install -vv  . \n",
    "! cd jupyter-quisp-widget && jupyter labextension develop --overwrite .\n",
    "! cd jupyter-quisp-widget && yarn run build:labextension:dev"
   ]
  },
  {
   "cell_type": "code",
   "execution_count": null,
   "metadata": {},
   "outputs": [],
   "source": [
    "from quisp_widget import QuispWidget, QNode, Network"
   ]
  },
  {
   "cell_type": "code",
   "execution_count": null,
   "metadata": {},
   "outputs": [],
   "source": [
    "simulator = QuispWidget()"
   ]
  },
  {
   "cell_type": "code",
   "execution_count": null,
   "metadata": {},
   "outputs": [],
   "source": [
    "network = Network(\"test\")\n",
    "qnode1 = QNode(name=\"qnode1\", network=network, is_initiator = True)\n",
    "qnode2 = QNode(name=\"qnode2\", network=network)\n",
    "qnode3 = QNode(name=\"qnode3\", network=network)\n",
    "qnode4 = QNode(name=\"qnode4\", network=network)\n",
    "qnode1.connect(qnode2)\n",
    "qnode2.connect(qnode3)\n",
    "qnode3.connect(qnode2)\n",
    "qnode4.connect(qnode2)\n",
    "simulator.load(network)"
   ]
  },
  {
   "cell_type": "code",
   "execution_count": null,
   "metadata": {},
   "outputs": [],
   "source": [
    "print(network.dump())"
   ]
  },
  {
   "cell_type": "code",
   "execution_count": null,
   "metadata": {},
   "outputs": [],
   "source": [
    "display(simulator)"
   ]
  },
  {
   "cell_type": "code",
   "execution_count": null,
   "metadata": {},
   "outputs": [],
   "source": [
    "simulator.run()"
   ]
  }
 ],
 "metadata": {
  "kernelspec": {
   "display_name": "Python 3 (ipykernel)",
   "language": "python",
   "name": "python3"
  },
  "language_info": {
   "codemirror_mode": {
    "name": "ipython",
    "version": 3
   },
   "file_extension": ".py",
   "mimetype": "text/x-python",
   "name": "python",
   "nbconvert_exporter": "python",
   "pygments_lexer": "ipython3",
   "version": "3.10.9"
  },
  "vscode": {
   "interpreter": {
    "hash": "1299d8cc001d0b451e1bdd71d5fff11080a556321d5971aae175c25dc5443763"
   }
  }
 },
 "nbformat": 4,
 "nbformat_minor": 4
}
