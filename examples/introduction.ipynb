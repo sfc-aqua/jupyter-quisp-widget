{
 "cells": [
  {
   "cell_type": "markdown",
   "metadata": {},
   "source": [
    "# Introduction"
   ]
  },
  {
   "cell_type": "code",
   "execution_count": null,
   "metadata": {},
   "outputs": [],
   "source": [
    "from quisp import QuispWidget, QNode, Network, ChannelOption, LinkType"
   ]
  },
  {
   "cell_type": "code",
   "execution_count": null,
   "metadata": {},
   "outputs": [],
   "source": [
    "simulator = QuispWidget()"
   ]
  },
  {
   "cell_type": "code",
   "execution_count": null,
   "metadata": {},
   "outputs": [],
   "source": [
    "network = Network(\"test\")\n",
    "qnode1 = QNode(name=\"qnode1\", network=network, is_initiator = True)\n",
    "qnode2 = QNode(name=\"qnode2\", network=network)\n",
    "# qnode3 = QNode(name=\"qnode3\", network=network)\n",
    "# qnode4 = QNode(name=\"qnode4\", network=network)\n",
    "qnode1.connect(qnode2)\n",
    "# qnode2.connect(qnode3)\n",
    "# qnode4.connect(qnode2, ChannelOption(link_type=LinkType.MIM, quantum_channel_distance=5))\n",
    "simulator.load(network)"
   ]
  },
  {
   "cell_type": "code",
   "execution_count": null,
   "metadata": {},
   "outputs": [],
   "source": [
    "print(network.dump())"
   ]
  },
  {
   "cell_type": "code",
   "execution_count": null,
   "metadata": {},
   "outputs": [],
   "source": [
    "display(simulator)"
   ]
  },
  {
   "cell_type": "code",
   "execution_count": null,
   "metadata": {},
   "outputs": [],
   "source": [
    "simulator.run()"
   ]
  },
  {
   "cell_type": "code",
   "execution_count": null,
   "metadata": {},
   "outputs": [],
   "source": [
    "simulator.readResult()\n",
    "f\"result: {len(simulator.jsonl)} lines\" if simulator.jsonl is not None else \"no result\""
   ]
  },
  {
   "cell_type": "code",
   "execution_count": null,
   "metadata": {},
   "outputs": [],
   "source": [
    "simulator.output"
   ]
  }
 ],
 "metadata": {
  "kernelspec": {
   "display_name": "Python 3 (ipykernel)",
   "language": "python",
   "name": "python3"
  },
  "language_info": {
   "codemirror_mode": {
    "name": "ipython",
    "version": 3
   },
   "file_extension": ".py",
   "mimetype": "text/x-python",
   "name": "python",
   "nbconvert_exporter": "python",
   "pygments_lexer": "ipython3",
   "version": "3.11.2"
  },
  "vscode": {
   "interpreter": {
    "hash": "07ba10bba8e4817f686014effd6423e126cef7a174ca79d558d24ff56c971298"
   }
  }
 },
 "nbformat": 4,
 "nbformat_minor": 4
}
