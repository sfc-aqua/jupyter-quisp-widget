{
 "cells": [
  {
   "cell_type": "markdown",
   "metadata": {},
   "source": [
    "# Introduction"
   ]
  },
  {
   "cell_type": "code",
   "execution_count": 2,
   "metadata": {},
   "outputs": [],
   "source": [
    "from quisp import QuispWidget, QNode, Network, ChannelOption, LinkType"
   ]
  },
  {
   "cell_type": "code",
   "execution_count": 3,
   "metadata": {},
   "outputs": [],
   "source": [
    "simulator = QuispWidget()"
   ]
  },
  {
   "cell_type": "code",
   "execution_count": 7,
   "metadata": {},
   "outputs": [],
   "source": [
    "network = Network(\"test\")\n",
    "qnode1 = QNode(name=\"qnode1\", network=network, is_initiator = True)\n",
    "qnode2 = QNode(name=\"qnode2\", network=network)\n",
    "# qnode3 = QNode(name=\"qnode3\", network=network)\n",
    "# qnode4 = QNode(name=\"qnode4\", network=network)\n",
    "qnode1.connect(qnode2)\n",
    "# qnode2.connect(qnode3)\n",
    "# qnode4.connect(qnode2, ChannelOption(link_type=LinkType.MIM, quantum_channel_distance=5))\n",
    "simulator.load(network)"
   ]
  },
  {
   "cell_type": "code",
   "execution_count": 6,
   "metadata": {},
   "outputs": [
    {
     "name": "stdout",
     "output_type": "stream",
     "text": [
      "\n",
      "package networks;\n",
      "\n",
      "import modules.*;\n",
      "import channels.*;\n",
      "import ned.IdealChannel;\n",
      "import ned.DatarateChannel;\n",
      "import modules.Backend.Backend;\n",
      "import modules.Logger.Logger;\n",
      "\n",
      "network test {\n",
      "    submodules:\n",
      "        backend: Backend;\n",
      "        logger: Logger;\n",
      "\n",
      "        qnode1: QNode {\n",
      "            address = 1;\n",
      "            node_type = \"EndNode\";\n",
      "            @display(\"i=COMP\");\n",
      "            is_initiator = true;\n",
      "        }\n",
      "        qnode2: QNode {\n",
      "            address = 2;\n",
      "            node_type = \"EndNode\";\n",
      "            @display(\"i=COMP\");\n",
      "            is_initiator = false;\n",
      "        }\n",
      "        BSA1_2: HOM {\n",
      "            address = 10000;\n",
      "            @display(\"i=device/device\");\n",
      "        }\n",
      "    connections:\n",
      "        qnode1.port++ <--> ClassicalChannel {  distance = 10.0km; } <--> BSA1_2.port++;\n",
      "        BSA1_2.port++ <--> ClassicalChannel {  distance = 10.0km; } <--> qnode2.port++;\n",
      "        qnode1.quantum_port++ <--> QuantumChannel {  distance = 10.0km; } <--> BSA1_2.quantum_port++;\n",
      "        BSA1_2.quantum_port++ <--> QuantumChannel {  distance = 10.0km; } <--> qnode2.quantum_port++;\n",
      "}\n",
      "\n"
     ]
    }
   ],
   "source": [
    "print(network.dump())"
   ]
  },
  {
   "cell_type": "code",
   "execution_count": 5,
   "metadata": {},
   "outputs": [
    {
     "data": {
      "application/vnd.jupyter.widget-view+json": {
       "model_id": "7b55c74c51c5440f852dc4243f6a2de2",
       "version_major": 2,
       "version_minor": 0
      },
      "text/plain": [
       "QuispWidget(layout=Layout(width='100%'))"
      ]
     },
     "metadata": {},
     "output_type": "display_data"
    }
   ],
   "source": [
    "display(simulator)"
   ]
  },
  {
   "cell_type": "code",
   "execution_count": 8,
   "metadata": {},
   "outputs": [],
   "source": [
    "simulator.run()"
   ]
  },
  {
   "cell_type": "code",
   "execution_count": 14,
   "metadata": {},
   "outputs": [],
   "source": [
    "simulator.readResult()"
   ]
  },
  {
   "cell_type": "code",
   "execution_count": 15,
   "metadata": {},
   "outputs": [
    {
     "name": "stdout",
     "output_type": "stream",
     "text": [
      "3317\n"
     ]
    }
   ],
   "source": [
    "if simulator.jsonl:\n",
    "  print(len(simulator.jsonl))"
   ]
  },
  {
   "cell_type": "code",
   "execution_count": 47,
   "metadata": {},
   "outputs": [],
   "source": [
    "simulator.output"
   ]
  }
 ],
 "metadata": {
  "kernelspec": {
   "display_name": "Python 3 (ipykernel)",
   "language": "python",
   "name": "python3"
  },
  "language_info": {
   "codemirror_mode": {
    "name": "ipython",
    "version": 3
   },
   "file_extension": ".py",
   "mimetype": "text/x-python",
   "name": "python",
   "nbconvert_exporter": "python",
   "pygments_lexer": "ipython3",
   "version": "3.10.9"
  },
  "vscode": {
   "interpreter": {
    "hash": "07ba10bba8e4817f686014effd6423e126cef7a174ca79d558d24ff56c971298"
   }
  }
 },
 "nbformat": 4,
 "nbformat_minor": 4
}
